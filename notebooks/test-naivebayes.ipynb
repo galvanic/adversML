{
 "cells": [
  {
   "cell_type": "code",
   "execution_count": 1,
   "metadata": {
    "collapsed": true
   },
   "outputs": [],
   "source": [
    "import sys\n",
    "sys.path.insert(0, '..')\n",
    "\n",
    "import numpy as np\n",
    "import matplotlib.pyplot as plt\n",
    "%matplotlib inline\n",
    "\n",
    "%load_ext autoreload\n",
    "%autoreload 1"
   ]
  },
  {
   "cell_type": "markdown",
   "metadata": {},
   "source": [
    "# Naive Bayes classifier model"
   ]
  },
  {
   "cell_type": "code",
   "execution_count": 2,
   "metadata": {
    "collapsed": false
   },
   "outputs": [
    {
     "name": "stdout",
     "output_type": "stream",
     "text": [
      "X is a (75419, 10000) \t <class 'numpy.ndarray'>\n",
      "Y is a (75419, 1) \t <class 'numpy.matrixlib.defmatrix.matrix'>\n"
     ]
    }
   ],
   "source": [
    "import pickle\n",
    "\n",
    "with open('../../datasets/processed/trec2007-1607061515-features.dat', 'rb') as infile:\n",
    "    X = pickle.load(infile)\n",
    "\n",
    "with open('../../datasets/processed/trec2007-1607061515-labels.dat', 'rb') as infile:\n",
    "    Y = pickle.load(infile)\n",
    "\n",
    "print('X is a %s \\t %s' % (X.shape, type(X)))\n",
    "print('Y is a %s \\t %s' % (Y.shape, type(Y)))\n"
   ]
  },
  {
   "cell_type": "code",
   "execution_count": 3,
   "metadata": {
    "collapsed": true
   },
   "outputs": [],
   "source": [
    "add_bias = lambda x: np.insert(x, 0, values=1, axis=1) # add bias term\n",
    "convert_labels = lambda y: y*2 - 1"
   ]
  },
  {
   "cell_type": "markdown",
   "metadata": {},
   "source": [
    "## split into test and training sets"
   ]
  },
  {
   "cell_type": "code",
   "execution_count": 4,
   "metadata": {
    "collapsed": false
   },
   "outputs": [
    {
     "name": "stdout",
     "output_type": "stream",
     "text": [
      "(20000, 10001)\n",
      "(20000, 1)\n",
      "\n",
      "(55419, 10001)\n",
      "(55419, 1)\n"
     ]
    }
   ],
   "source": [
    "N_train = 20000\n",
    "X_train = X[:N_train]\n",
    "Y_train = Y[:N_train]\n",
    "X_test = X[N_train:]\n",
    "Y_test = Y[N_train:]\n",
    "\n",
    "X_train, X_test = map(add_bias, [X_train, X_test])\n",
    "#Y_train, Y_test = map(convert_labels, [Y_train, Y_test])\n",
    "\n",
    "print(X_train.shape)\n",
    "print(Y_train.shape)\n",
    "print()\n",
    "print(X_test.shape)\n",
    "print(Y_test.shape)"
   ]
  },
  {
   "cell_type": "markdown",
   "metadata": {},
   "source": [
    "## training"
   ]
  },
  {
   "cell_type": "code",
   "execution_count": 5,
   "metadata": {
    "collapsed": false
   },
   "outputs": [
    {
     "name": "stdout",
     "output_type": "stream",
     "text": [
      "(20000, 1)\n"
     ]
    }
   ],
   "source": [
    "%aimport naivebayes\n",
    "\n",
    "parameters = naivebayes.train_naivebayes(features=X_train, labels=Y_train)\n",
    "O_train = naivebayes.test_naivebayes(parameters=parameters, features=X_train)\n",
    "print(O_train.shape)"
   ]
  },
  {
   "cell_type": "markdown",
   "metadata": {},
   "source": [
    "## testing"
   ]
  },
  {
   "cell_type": "code",
   "execution_count": 11,
   "metadata": {
    "collapsed": false
   },
   "outputs": [
    {
     "name": "stdout",
     "output_type": "stream",
     "text": [
      "(55419, 1)\n"
     ]
    }
   ],
   "source": [
    "%aimport naivebayes\n",
    "\n",
    "O_test  = naivebayes.test_naivebayes(parameters=parameters, features=X_test)\n",
    "print(O_test.shape)"
   ]
  },
  {
   "cell_type": "markdown",
   "metadata": {},
   "source": [
    "## performance"
   ]
  },
  {
   "cell_type": "code",
   "execution_count": 13,
   "metadata": {
    "collapsed": false
   },
   "outputs": [
    {
     "name": "stdout",
     "output_type": "stream",
     "text": [
      "error training set:\t0.755\n",
      "error testing  set:\t0.633\n",
      "false positive rate:\t0.000\n",
      "false negative rate:\t1.000\n"
     ]
    }
   ],
   "source": [
    "%aimport performance\n",
    "\n",
    "## error\n",
    "error_train = performance.get_error(Y_train, O_train)\n",
    "error_test  = performance.get_error(Y_test, O_test)\n",
    "print('error training set:\\t%.3f' % error_train)\n",
    "print('error testing  set:\\t%.3f' % error_test )\n",
    "\n",
    "## False Positive Rate (=fall-out) ~also called false alarm rate\n",
    "FPR = performance.get_FPR(Y_test, O_test)\n",
    "print('false positive rate:\\t%.3f' % FPR)\n",
    "\n",
    "## False Negative Rate ~miss rate\n",
    "FNR = performance.get_FNR(Y_test, O_test)\n",
    "print('false negative rate:\\t%.3f' % FNR)\n"
   ]
  }
 ],
 "metadata": {
  "kernelspec": {
   "display_name": "Python 3",
   "language": "python",
   "name": "python3"
  },
  "language_info": {
   "codemirror_mode": {
    "name": "ipython",
    "version": 3
   },
   "file_extension": ".py",
   "mimetype": "text/x-python",
   "name": "python",
   "nbconvert_exporter": "python",
   "pygments_lexer": "ipython3",
   "version": "3.5.2"
  }
 },
 "nbformat": 4,
 "nbformat_minor": 0
}
