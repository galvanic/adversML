{
 "cells": [
  {
   "cell_type": "code",
   "execution_count": 1,
   "metadata": {
    "collapsed": false
   },
   "outputs": [],
   "source": [
    "import sys\n",
    "sys.path.insert(0, '..')\n",
    "\n",
    "import numpy as np\n",
    "import matplotlib.pyplot as plt\n",
    "%matplotlib inline\n",
    "\n",
    "from pprint import pprint\n",
    "\n",
    "%load_ext autoreload\n",
    "%autoreload 1"
   ]
  },
  {
   "cell_type": "markdown",
   "metadata": {},
   "source": [
    "# Experiment pipeline"
   ]
  },
  {
   "cell_type": "code",
   "execution_count": 41,
   "metadata": {
    "collapsed": false
   },
   "outputs": [
    {
     "name": "stdout",
     "output_type": "stream",
     "text": [
      "[{'attack': <function process_experiment_declaration.<locals>.no_attack at 0x7f50ca282598>,\n",
      "  'attack_parameters': {},\n",
      "  'classifier': <module 'adaline' from '../adaline.py'>,\n",
      "  'dataset': 'trec2007',\n",
      "  'dataset_filename': 'trec2007-1607061515',\n",
      "  'feature_extraction_parameters': {},\n",
      "  'labels': {'ham_label': -1,\n",
      "             'spam_label': 1},\n",
      "  'testing_parameters': {'ham_label': -1},\n",
      "  'training_parameters': {'ham_label': -1,\n",
      "                          'initial_weights': None,\n",
      "                          'learning_rate': 0.15,\n",
      "                          'termination_condition': <function max_iters.<locals>.<lambda> at 0x7f50ca282378>,\n",
      "                          'verbose': False}},\n",
      " {'attack': <function process_experiment_declaration.<locals>.no_attack at 0x7f50ca2820d0>,\n",
      "  'attack_parameters': {},\n",
      "  'classifier': <module 'naivebayes' from '../naivebayes.py'>,\n",
      "  'dataset': 'trec2007',\n",
      "  'dataset_filename': 'trec2007-1607061515',\n",
      "  'feature_extraction_parameters': {},\n",
      "  'labels': {'ham_label': -1,\n",
      "             'spam_label': 1},\n",
      "  'testing_parameters': {'ham_label': -1},\n",
      "  'training_parameters': {'ham_label': -1}}]\n"
     ]
    }
   ],
   "source": [
    "from gradientdescent import max_iters\n",
    "\n",
    "import adaline\n",
    "import naivebayes\n",
    "\n",
    "experiments = [\n",
    "    {\n",
    "        'dataset': 'trec2007',\n",
    "        'dataset_filename': 'trec2007-1607061515',\n",
    "        'feature_extraction_parameters': {\n",
    "        },\n",
    "        'labels': {\n",
    "            'ham_label': -1,\n",
    "            'spam_label': 1,\n",
    "        },\n",
    "        'attack': None,\n",
    "        'attack_parameters': {\n",
    "        },\n",
    "        'classifier': adaline,\n",
    "        'training_parameters': {\n",
    "            'learning_rate': 0.15,\n",
    "            'initial_weights': None,\n",
    "            'termination_condition': max_iters(50),\n",
    "            'verbose': False,\n",
    "        },\n",
    "        'testing_parameters': {\n",
    "        },\n",
    "    },\n",
    "    \n",
    "    {\n",
    "        'dataset': 'trec2007',\n",
    "        'dataset_filename': 'trec2007-1607061515',\n",
    "        'feature_extraction_parameters': {\n",
    "        },\n",
    "        'labels': {\n",
    "            'ham_label': -1,\n",
    "            'spam_label': 1,\n",
    "        },\n",
    "        'attack': None,\n",
    "        'attack_parameters': {\n",
    "        },\n",
    "        'classifier': naivebayes,\n",
    "        'training_parameters': {\n",
    "        },\n",
    "        'testing_parameters': {\n",
    "        },\n",
    "    },\n",
    "]\n",
    "\n",
    "def process_experiment_declaration(experiment):\n",
    "    \n",
    "    ham_label = experiment['labels']['ham_label']\n",
    "    experiment['training_parameters']['ham_label'] = ham_label\n",
    "    experiment['testing_parameters' ]['ham_label'] = ham_label\n",
    "    \n",
    "    if not experiment['attack']:\n",
    "        def no_attack(x, **kwargs):\n",
    "            return x\n",
    "        experiment['attack'] = no_attack\n",
    "    return experiment\n",
    "\n",
    "experiments = list(map(process_experiment_declaration, experiments))\n",
    "\n",
    "pprint(list(experiments), width=1)"
   ]
  },
  {
   "cell_type": "markdown",
   "metadata": {},
   "source": [
    "## choose experiment"
   ]
  },
  {
   "cell_type": "code",
   "execution_count": 42,
   "metadata": {
    "collapsed": false
   },
   "outputs": [
    {
     "data": {
      "text/plain": [
       "{'attack': <function __main__.process_experiment_declaration.<locals>.no_attack>,\n",
       " 'attack_parameters': {},\n",
       " 'classifier': <module 'naivebayes' from '../naivebayes.py'>,\n",
       " 'dataset': 'trec2007',\n",
       " 'dataset_filename': 'trec2007-1607061515',\n",
       " 'feature_extraction_parameters': {},\n",
       " 'labels': {'ham_label': -1, 'spam_label': 1},\n",
       " 'testing_parameters': {'ham_label': -1},\n",
       " 'training_parameters': {'ham_label': -1}}"
      ]
     },
     "execution_count": 42,
     "metadata": {},
     "output_type": "execute_result"
    }
   ],
   "source": [
    "experiment = experiments[1]\n",
    "experiment"
   ]
  },
  {
   "cell_type": "markdown",
   "metadata": {},
   "source": [
    "## load data"
   ]
  },
  {
   "cell_type": "code",
   "execution_count": 31,
   "metadata": {
    "collapsed": false
   },
   "outputs": [
    {
     "name": "stdout",
     "output_type": "stream",
     "text": [
      "X is a (75419, 10000) \t <class 'numpy.ndarray'>\n",
      "Y is a (75419, 1) \t <class 'numpy.matrixlib.defmatrix.matrix'>\n"
     ]
    }
   ],
   "source": [
    "import pickle\n",
    "\n",
    "with open('../../datasets/processed/%s-features.dat' % experiment['dataset_filename'], 'rb') as infile:\n",
    "    X = pickle.load(infile)\n",
    "\n",
    "with open('../../datasets/processed/%s-labels.dat' % experiment['dataset_filename'], 'rb') as infile:\n",
    "    Y = pickle.load(infile)\n",
    "\n",
    "N, D = X.shape\n",
    "\n",
    "print('X is a %s \\t %s' % (X.shape, type(X)))\n",
    "print('Y is a %s \\t %s' % (Y.shape, type(Y)))\n"
   ]
  },
  {
   "cell_type": "markdown",
   "metadata": {},
   "source": [
    "## split into test and training sets"
   ]
  },
  {
   "cell_type": "code",
   "execution_count": 32,
   "metadata": {
    "collapsed": true
   },
   "outputs": [],
   "source": [
    "add_bias = lambda x: np.insert(x, 0, values=1, axis=1) # add bias term\n",
    "convert_labels = lambda y: y*2 - 1"
   ]
  },
  {
   "cell_type": "code",
   "execution_count": 34,
   "metadata": {
    "collapsed": false
   },
   "outputs": [
    {
     "name": "stdout",
     "output_type": "stream",
     "text": [
      "(37710, 10001)\n",
      "(37710, 1)\n",
      "\n",
      "(37709, 10001)\n",
      "(37709, 1)\n"
     ]
    }
   ],
   "source": [
    "permutated_indices = np.random.permutation(N)\n",
    "X = X[permutated_indices]\n",
    "Y = Y[permutated_indices]\n",
    "\n",
    "N_train = int(np.round(N * 0.5))\n",
    "X_train = X[:N_train]\n",
    "Y_train = Y[:N_train]\n",
    "X_test = X[N_train:]\n",
    "Y_test = Y[N_train:]\n",
    "\n",
    "if experiment['classifier'] != 'naive bayes':\n",
    "    X_train, X_test = map(add_bias, [X_train, X_test])\n",
    "if experiment['labels']['ham_label'] == -1:\n",
    "    Y_train, Y_test = map(convert_labels, [Y_train, Y_test])\n",
    "\n",
    "print(X_train.shape)\n",
    "print(Y_train.shape)\n",
    "print()\n",
    "print(X_test.shape)\n",
    "print(Y_test.shape)"
   ]
  },
  {
   "cell_type": "markdown",
   "metadata": {},
   "source": [
    "## apply attack"
   ]
  },
  {
   "cell_type": "code",
   "execution_count": 35,
   "metadata": {
    "collapsed": false
   },
   "outputs": [],
   "source": [
    "X_train = experiment['attack'](X_train, **experiment['attack_parameters'])\n",
    "X_test  = experiment['attack'](X_test,  **experiment['attack_parameters'])"
   ]
  },
  {
   "cell_type": "markdown",
   "metadata": {},
   "source": [
    "## training"
   ]
  },
  {
   "cell_type": "code",
   "execution_count": 43,
   "metadata": {
    "collapsed": false
   },
   "outputs": [],
   "source": [
    "model_parameters = experiment['classifier'].train(features=X_train, labels=Y_train, **experiment['training_parameters'])\n",
    "O_train = experiment['classifier'].test(parameters=model_parameters, features=X_train, **experiment['testing_parameters'])"
   ]
  },
  {
   "cell_type": "markdown",
   "metadata": {},
   "source": [
    "## testing"
   ]
  },
  {
   "cell_type": "code",
   "execution_count": 44,
   "metadata": {
    "collapsed": true
   },
   "outputs": [],
   "source": [
    "O_test = experiment['classifier'].test(parameters=model_parameters, features=X_test, **experiment['testing_parameters'])"
   ]
  },
  {
   "cell_type": "markdown",
   "metadata": {},
   "source": [
    "## performance"
   ]
  },
  {
   "cell_type": "code",
   "execution_count": 45,
   "metadata": {
    "collapsed": false
   },
   "outputs": [],
   "source": [
    "import performance\n",
    "\n",
    "## error\n",
    "error_train = performance.get_error(Y_train, O_train)\n",
    "error_test  = performance.get_error(Y_test,  O_test)\n",
    "\n",
    "## False Positive Rate (=fall-out) ~also called false alarm rate\n",
    "FPR = performance.get_FPR(Y_test, O_test, **experiment['labels'])\n",
    "\n",
    "## False Negative Rate ~miss rate\n",
    "FNR = performance.get_FNR(Y_test, O_test, **experiment['labels'])"
   ]
  },
  {
   "cell_type": "code",
   "execution_count": 46,
   "metadata": {
    "collapsed": false
   },
   "outputs": [
    {
     "name": "stdout",
     "output_type": "stream",
     "text": [
      "error training set:\t0.041\n",
      "error testing  set:\t0.042\n",
      "false positive rate:\t0.031\n",
      "false negative rate:\t0.048\n"
     ]
    }
   ],
   "source": [
    "print('error training set:\\t%.3f' % error_train)\n",
    "print('error testing  set:\\t%.3f' % error_test )\n",
    "print('false positive rate:\\t%.3f' % FPR)\n",
    "print('false negative rate:\\t%.3f' % FNR)"
   ]
  }
 ],
 "metadata": {
  "kernelspec": {
   "display_name": "Python 3",
   "language": "python",
   "name": "python3"
  },
  "language_info": {
   "codemirror_mode": {
    "name": "ipython",
    "version": 3
   },
   "file_extension": ".py",
   "mimetype": "text/x-python",
   "name": "python",
   "nbconvert_exporter": "python",
   "pygments_lexer": "ipython3",
   "version": "3.5.2"
  }
 },
 "nbformat": 4,
 "nbformat_minor": 0
}
