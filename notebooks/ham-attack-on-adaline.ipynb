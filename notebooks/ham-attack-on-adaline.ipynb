{
 "cells": [
  {
   "cell_type": "code",
   "execution_count": 1,
   "metadata": {
    "collapsed": false
   },
   "outputs": [],
   "source": [
    "import sys\n",
    "sys.path.insert(0, '..')\n",
    "\n",
    "import numpy as np\n",
    "import matplotlib.pyplot as plt\n",
    "%matplotlib inline\n",
    "\n",
    "%load_ext autoreload\n",
    "%autoreload 1"
   ]
  },
  {
   "cell_type": "markdown",
   "metadata": {},
   "source": [
    "# Empty attack on Adaline"
   ]
  },
  {
   "cell_type": "code",
   "execution_count": 2,
   "metadata": {
    "collapsed": false
   },
   "outputs": [
    {
     "name": "stdout",
     "output_type": "stream",
     "text": [
      "X is a (75419, 10000) \t <class 'numpy.ndarray'>\n",
      "Y is a (75419, 1) \t <class 'numpy.matrixlib.defmatrix.matrix'>\n"
     ]
    }
   ],
   "source": [
    "import pickle\n",
    "\n",
    "with open('../../datasets/processed/trec2007-1607061515-features.dat', 'rb') as infile:\n",
    "    X = pickle.load(infile)\n",
    "\n",
    "with open('../../datasets/processed/trec2007-1607061515-labels.dat', 'rb') as infile:\n",
    "    Y = pickle.load(infile)\n",
    "\n",
    "print('X is a %s \\t %s' % (X.shape, type(X)))\n",
    "print('Y is a %s \\t %s' % (Y.shape, type(Y)))"
   ]
  },
  {
   "cell_type": "markdown",
   "metadata": {},
   "source": [
    "## prepare the dataset"
   ]
  },
  {
   "cell_type": "code",
   "execution_count": 5,
   "metadata": {
    "collapsed": false
   },
   "outputs": [],
   "source": [
    "## reduce dataset to go faster during prototyping\n",
    "N_keep = 20000\n",
    "x = X[:N_keep]\n",
    "y = Y[:N_keep]"
   ]
  },
  {
   "cell_type": "markdown",
   "metadata": {},
   "source": [
    "## the attack"
   ]
  },
  {
   "cell_type": "code",
   "execution_count": 7,
   "metadata": {
    "collapsed": false
   },
   "outputs": [
    {
     "name": "stdout",
     "output_type": "stream",
     "text": [
      "(22000, 10000)\n",
      "(22000, 1)\n"
     ]
    }
   ],
   "source": [
    "%aimport hamattack\n",
    "x, y = hamattack.apply_ham_attack(features=x, labels=y, percentage_poisoned=0.1)\n",
    "\n",
    "print(x.shape)\n",
    "print(y.shape)"
   ]
  },
  {
   "cell_type": "markdown",
   "metadata": {},
   "source": [
    "## training"
   ]
  },
  {
   "cell_type": "code",
   "execution_count": 8,
   "metadata": {
    "collapsed": true
   },
   "outputs": [],
   "source": [
    "add_bias = lambda x: np.insert(x, 0, values=1, axis=1) # add bias term\n",
    "convert_labels = lambda y: y*2 - 1                     # Convert labels to 1 and -1"
   ]
  },
  {
   "cell_type": "code",
   "execution_count": 9,
   "metadata": {
    "collapsed": false
   },
   "outputs": [
    {
     "data": {
      "image/png": "[encoded data removed]",
      "text/plain": [
       "<matplotlib.figure.Figure at 0x7f5e2e22a710>"
      ]
     },
     "metadata": {},
     "output_type": "display_data"
    },
    {
     "name": "stdout",
     "output_type": "stream",
     "text": [
      " cost at iteration 200: 0.099\n"
     ]
    },
    {
     "data": {
      "image/png": "[encoded data removed]",
      "text/plain": [
       "<matplotlib.figure.Figure at 0x7f5e2e22a748>"
      ]
     },
     "metadata": {},
     "output_type": "display_data"
    },
    {
     "name": "stdout",
     "output_type": "stream",
     "text": [
      "error at iteration 200: 0.255\n"
     ]
    }
   ],
   "source": [
    "%aimport adaline\n",
    "from adaline import max_iters\n",
    "\n",
    "x = add_bias(x)\n",
    "y = convert_labels(y)\n",
    "\n",
    "weights, cost, error = adaline.train_adaline(features=x, labels=y,\n",
    "                                             rate=0.061,\n",
    "                                             termination_condition=max_iters(100),\n",
    "                                             verbose=False)\n",
    "\n",
    "plt.plot(cost)\n",
    "plt.ylim(0, cost[0])\n",
    "plt.show()\n",
    "print(' cost at iteration 200: %.3f' % cost[-1])\n",
    "\n",
    "plt.plot(error)\n",
    "plt.ylim(0, error[0])\n",
    "plt.show()\n",
    "print('error at iteration 200: %.3f' % error[-1])"
   ]
  },
  {
   "cell_type": "markdown",
   "metadata": {},
   "source": [
    "## testing"
   ]
  },
  {
   "cell_type": "code",
   "execution_count": 10,
   "metadata": {
    "collapsed": true
   },
   "outputs": [],
   "source": [
    "%aimport adaline\n",
    "\n",
    "x_test = X[N_keep:N_keep+1000]\n",
    "y_test = Y[N_keep:N_keep+1000]\n",
    "\n",
    "x_test = add_bias(x_test)\n",
    "y_test = convert_labels(y_test)\n",
    "\n",
    "labels, cost = adaline.test_adaline(weights=weights, features=x_test)"
   ]
  },
  {
   "cell_type": "code",
   "execution_count": 11,
   "metadata": {
    "collapsed": false
   },
   "outputs": [
    {
     "data": {
      "text/plain": [
       "0.36499999999999999"
      ]
     },
     "execution_count": 11,
     "metadata": {},
     "output_type": "execute_result"
    }
   ],
   "source": [
    "## error\n",
    "np.sum(y_test != labels)/x_test.shape[0] # mean error over samples"
   ]
  }
 ],
 "metadata": {
  "kernelspec": {
   "display_name": "Python 3",
   "language": "python",
   "name": "python3"
  },
  "language_info": {
   "codemirror_mode": {
    "name": "ipython",
    "version": 3
   },
   "file_extension": ".py",
   "mimetype": "text/x-python",
   "name": "python",
   "nbconvert_exporter": "python",
   "pygments_lexer": "ipython3",
   "version": "3.5.2"
  }
 },
 "nbformat": 4,
 "nbformat_minor": 0
}
