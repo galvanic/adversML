{
 "cells": [
  {
   "cell_type": "code",
   "execution_count": 3,
   "metadata": {
    "collapsed": true
   },
   "outputs": [],
   "source": [
    "import numpy as np\n",
    "import matplotlib.pyplot as plt\n",
    "%matplotlib inline\n",
    "\n",
    "%load_ext autoreload\n",
    "%autoreload 1\n",
    "#%aimport "
   ]
  },
  {
   "cell_type": "markdown",
   "metadata": {},
   "source": [
    "# Ham attack on adaline classifier"
   ]
  },
  {
   "cell_type": "code",
   "execution_count": 2,
   "metadata": {
    "collapsed": false
   },
   "outputs": [
    {
     "name": "stdout",
     "output_type": "stream",
     "text": [
      "X is a (75419, 10000) \t <class 'numpy.ndarray'>\n",
      "Y is a (75419, 1) \t <class 'numpy.matrixlib.defmatrix.matrix'>\n"
     ]
    }
   ],
   "source": [
    "import pickle\n",
    "\n",
    "with open('../datasets/processed/trec2007-1607061515-features.dat', 'rb') as infile:\n",
    "    X = pickle.load(infile)\n",
    "\n",
    "with open('../datasets/processed/trec2007-1607061515-labels.dat', 'rb') as infile:\n",
    "    Y = pickle.load(infile)\n",
    "\n",
    "print('X is a %s \\t %s' % (X.shape, type(X)))\n",
    "print('Y is a %s \\t %s' % (Y.shape, type(Y)))"
   ]
  },
  {
   "cell_type": "markdown",
   "metadata": {},
   "source": [
    "## prepare dataset"
   ]
  },
  {
   "cell_type": "code",
   "execution_count": 4,
   "metadata": {
    "collapsed": true
   },
   "outputs": [],
   "source": [
    "## reduce dataset to go faster during prototyping\n",
    "N_keep = 20000\n",
    "x = X[:N_keep]\n",
    "y = Y[:N_keep]"
   ]
  },
  {
   "cell_type": "markdown",
   "metadata": {},
   "source": [
    "## ham attack"
   ]
  },
  {
   "cell_type": "code",
   "execution_count": 5,
   "metadata": {
    "collapsed": true
   },
   "outputs": [],
   "source": [
    "percentage_poisoned = 0.1 ## percentage of the dataset under the attacker's control\n",
    "\n",
    "N, D = x.shape ## number of N: samples, D: features\n",
    "num_poisoned = int(N*percentage_poisoned)\n"
   ]
  },
  {
   "cell_type": "code",
   "execution_count": 21,
   "metadata": {
    "collapsed": false
   },
   "outputs": [
    {
     "name": "stdout",
     "output_type": "stream",
     "text": [
      "(1, 4891)\n"
     ]
    },
    {
     "data": {
      "text/plain": [
       "(4891, 10000)"
      ]
     },
     "execution_count": 21,
     "metadata": {},
     "output_type": "execute_result"
    }
   ],
   "source": [
    "## find the most salient (positive) features, indicative of the ham class\n",
    "ham_indices = y[y == 0]\n",
    "print(ham_indices.shape)\n",
    "hams = x[ham_indices, :][0, :, :]\n",
    "hams.shape"
   ]
  },
  {
   "cell_type": "code",
   "execution_count": 41,
   "metadata": {
    "collapsed": false
   },
   "outputs": [
    {
     "name": "stdout",
     "output_type": "stream",
     "text": [
      "[0 0 0 ..., 0 0 0]\n"
     ]
    },
    {
     "data": {
      "image/png": "[encoded data removed]",
      "text/plain": [
       "<matplotlib.figure.Figure at 0x7f928f130e10>"
      ]
     },
     "metadata": {},
     "output_type": "display_data"
    }
   ],
   "source": [
    "count = np.sum(hams, axis=0)\n",
    "print(count)\n",
    "plt.hist(count)\n",
    "plt.show()"
   ]
  },
  {
   "cell_type": "code",
   "execution_count": 40,
   "metadata": {
    "collapsed": false,
    "scrolled": true
   },
   "outputs": [
    {
     "data": {
      "text/plain": [
       "array([4891, 4891, 4891, 4891, 4891, 4891, 4891, 4891, 4891, 4891, 4891,\n",
       "       4891, 4891, 4891, 4891, 4891, 4891, 4891, 4891, 4891, 4891, 4891,\n",
       "       4891, 4891, 4891, 4891, 4891, 4891, 4891, 4891, 4891, 4891, 4891,\n",
       "       4891, 4891, 4891, 4891, 4891, 4891, 4891, 4891,    0,    0,    0,\n",
       "          0,    0,    0,    0,    0,    0,    0,    0,    0,    0,    0,\n",
       "          0,    0,    0,    0,    0,    0,    0,    0,    0,    0,    0,\n",
       "          0,    0,    0,    0,    0,    0,    0,    0,    0,    0,    0,\n",
       "          0,    0,    0,    0,    0,    0,    0,    0,    0,    0,    0,\n",
       "          0,    0,    0,    0,    0,    0,    0,    0,    0,    0,    0,\n",
       "          0,    0,    0,    0,    0,    0,    0,    0,    0,    0,    0,\n",
       "          0,    0,    0,    0,    0,    0,    0,    0,    0,    0,    0,\n",
       "          0,    0,    0,    0,    0,    0,    0,    0,    0,    0,    0,\n",
       "          0,    0,    0,    0,    0,    0,    0,    0,    0,    0,    0,\n",
       "          0,    0,    0,    0,    0,    0,    0,    0,    0,    0,    0,\n",
       "          0,    0,    0,    0,    0,    0,    0,    0,    0,    0,    0,\n",
       "          0,    0,    0,    0,    0,    0,    0,    0,    0,    0,    0,\n",
       "          0,    0,    0,    0,    0,    0,    0,    0,    0,    0,    0,\n",
       "          0,    0,    0,    0,    0,    0,    0,    0,    0,    0,    0,\n",
       "          0,    0,    0,    0,    0,    0,    0,    0,    0,    0,    0,\n",
       "          0,    0,    0,    0,    0,    0,    0,    0,    0,    0,    0,\n",
       "          0,    0,    0,    0,    0,    0,    0,    0,    0,    0,    0,\n",
       "          0,    0,    0,    0,    0,    0,    0,    0,    0,    0,    0,\n",
       "          0,    0,    0,    0,    0,    0,    0,    0,    0,    0,    0,\n",
       "          0,    0,    0,    0,    0,    0,    0,    0,    0,    0,    0,\n",
       "          0,    0,    0,    0,    0,    0,    0,    0,    0,    0,    0,\n",
       "          0,    0,    0,    0,    0,    0,    0,    0,    0,    0,    0,\n",
       "          0,    0,    0,    0,    0,    0,    0,    0,    0,    0,    0,\n",
       "          0,    0,    0,    0,    0,    0,    0,    0,    0,    0,    0,\n",
       "          0,    0,    0,    0,    0,    0,    0,    0,    0,    0,    0,\n",
       "          0,    0,    0,    0,    0,    0,    0,    0,    0,    0,    0,\n",
       "          0,    0,    0,    0,    0,    0,    0,    0,    0,    0,    0,\n",
       "          0,    0,    0,    0,    0,    0,    0,    0,    0,    0,    0,\n",
       "          0,    0,    0,    0,    0,    0,    0,    0,    0,    0,    0,\n",
       "          0,    0,    0,    0,    0,    0,    0,    0,    0,    0,    0,\n",
       "          0,    0,    0,    0,    0,    0,    0,    0,    0,    0,    0,\n",
       "          0,    0,    0,    0,    0,    0,    0,    0,    0,    0,    0,\n",
       "          0,    0,    0,    0,    0,    0,    0,    0,    0,    0,    0,\n",
       "          0,    0,    0,    0,    0,    0,    0,    0,    0,    0,    0,\n",
       "          0,    0,    0,    0,    0,    0,    0,    0,    0,    0,    0,\n",
       "          0,    0,    0,    0,    0,    0,    0,    0,    0,    0,    0,\n",
       "          0,    0,    0,    0,    0,    0,    0,    0,    0,    0,    0,\n",
       "          0,    0,    0,    0,    0,    0,    0,    0,    0,    0,    0,\n",
       "          0,    0,    0,    0,    0,    0,    0,    0,    0,    0,    0,\n",
       "          0,    0,    0,    0,    0,    0,    0,    0,    0,    0,    0,\n",
       "          0,    0,    0,    0,    0,    0,    0,    0,    0,    0,    0,\n",
       "          0,    0,    0,    0,    0])"
      ]
     },
     "execution_count": 40,
     "metadata": {},
     "output_type": "execute_result"
    }
   ],
   "source": [
    "np.sort(count)[::-1][:500]\n"
   ]
  },
  {
   "cell_type": "code",
   "execution_count": 58,
   "metadata": {
    "collapsed": false
   },
   "outputs": [
    {
     "name": "stdout",
     "output_type": "stream",
     "text": [
      "(10000,)\n"
     ]
    },
    {
     "data": {
      "text/plain": [
       "array([False, False, False, ..., False, False, False], dtype=bool)"
      ]
     },
     "execution_count": 58,
     "metadata": {},
     "output_type": "execute_result"
    }
   ],
   "source": [
    "salient = (count != 0) ## feature indices that are salient for ham class\n",
    "print(salient.shape)\n",
    "salient"
   ]
  },
  {
   "cell_type": "code",
   "execution_count": 63,
   "metadata": {
    "collapsed": false
   },
   "outputs": [
    {
     "name": "stdout",
     "output_type": "stream",
     "text": [
      "(2000, 10000)\n",
      "[[ 0.  0.  0. ...,  0.  0.  0.]\n",
      " [ 0.  0.  0. ...,  0.  0.  0.]\n",
      " [ 0.  0.  0. ...,  0.  0.  0.]\n",
      " ..., \n",
      " [ 0.  0.  0. ...,  0.  0.  0.]\n",
      " [ 0.  0.  0. ...,  0.  0.  0.]\n",
      " [ 0.  0.  0. ...,  0.  0.  0.]]\n"
     ]
    },
    {
     "data": {
      "text/plain": [
       "2000.0"
      ]
     },
     "execution_count": 63,
     "metadata": {},
     "output_type": "execute_result"
    }
   ],
   "source": [
    "ham_attack = np.zeros((1, D))\n",
    "ham_attack[:, salient] = 1\n",
    "ham_attack = np.array([ham_attack,]*num_poisoned)\n",
    "ham_attack = ham_attack[:, 0, :]\n",
    "\n",
    "print(ham_attack.shape)\n",
    "print(ham_attack)\n",
    "ham_attack.sum()/41"
   ]
  },
  {
   "cell_type": "code",
   "execution_count": 64,
   "metadata": {
    "collapsed": false
   },
   "outputs": [
    {
     "name": "stdout",
     "output_type": "stream",
     "text": [
      "(22000, 10000)\n"
     ]
    },
    {
     "data": {
      "text/plain": [
       "array([[ 0.,  0.,  0., ...,  0.,  0.,  0.],\n",
       "       [ 0.,  0.,  0., ...,  0.,  0.,  0.],\n",
       "       [ 0.,  0.,  0., ...,  0.,  0.,  0.],\n",
       "       ..., \n",
       "       [ 0.,  0.,  0., ...,  0.,  0.,  0.],\n",
       "       [ 0.,  0.,  0., ...,  0.,  0.,  0.],\n",
       "       [ 0.,  0.,  0., ...,  0.,  0.,  0.]])"
      ]
     },
     "execution_count": 64,
     "metadata": {},
     "output_type": "execute_result"
    }
   ],
   "source": [
    "x = np.append(x, ham_attack, axis=0)\n",
    "print(x.shape)\n",
    "x"
   ]
  },
  {
   "cell_type": "markdown",
   "metadata": {},
   "source": [
    "### contamination assumption"
   ]
  },
  {
   "cell_type": "code",
   "execution_count": 65,
   "metadata": {
    "collapsed": false
   },
   "outputs": [
    {
     "name": "stdout",
     "output_type": "stream",
     "text": [
      "(2000, 1)\n",
      "(22000, 1)\n"
     ]
    },
    {
     "data": {
      "text/plain": [
       "matrix([[ 1.],\n",
       "        [ 0.],\n",
       "        [ 1.],\n",
       "        ..., \n",
       "        [ 1.],\n",
       "        [ 1.],\n",
       "        [ 1.]])"
      ]
     },
     "execution_count": 65,
     "metadata": {},
     "output_type": "execute_result"
    }
   ],
   "source": [
    "poisoned_labels = np.ones((num_poisoned, 1))\n",
    "print(poisoned_labels.shape)\n",
    "\n",
    "y = np.append(y, poisoned_labels, axis=0)\n",
    "print(y.shape)\n",
    "y"
   ]
  },
  {
   "cell_type": "markdown",
   "metadata": {},
   "source": [
    "## training phase"
   ]
  },
  {
   "cell_type": "code",
   "execution_count": 66,
   "metadata": {
    "collapsed": true
   },
   "outputs": [],
   "source": [
    "add_bias = lambda x: np.insert(x, 0, values=1, axis=1) # add bias term\n",
    "convert_labels = lambda y: y*2 - 1                     # Convert labels to 1 and -1"
   ]
  },
  {
   "cell_type": "code",
   "execution_count": 68,
   "metadata": {
    "collapsed": true
   },
   "outputs": [
    {
     "name": "stdout",
     "output_type": "stream",
     "text": [
      "iteration 1:\tcost = 1.000\n",
      "iteration 2:\tcost = 0.835\n",
      "iteration 3:\tcost = 0.718\n",
      "iteration 4:\tcost = 0.631\n",
      "iteration 5:\tcost = 0.564\n",
      "iteration 6:\tcost = 0.512\n",
      "iteration 7:\tcost = 0.469\n",
      "iteration 8:\tcost = 0.433\n",
      "iteration 9:\tcost = 0.403\n",
      "iteration 10:\tcost = 0.378\n",
      "iteration 11:\tcost = 0.356\n",
      "iteration 12:\tcost = 0.336\n",
      "iteration 13:\tcost = 0.320\n",
      "iteration 14:\tcost = 0.305\n",
      "iteration 15:\tcost = 0.291\n",
      "iteration 16:\tcost = 0.279\n",
      "iteration 17:\tcost = 0.269\n",
      "iteration 18:\tcost = 0.259\n",
      "iteration 19:\tcost = 0.250\n",
      "iteration 20:\tcost = 0.242\n",
      "iteration 21:\tcost = 0.235\n",
      "iteration 22:\tcost = 0.228\n",
      "iteration 23:\tcost = 0.222\n",
      "iteration 24:\tcost = 0.216\n",
      "iteration 25:\tcost = 0.210\n",
      "iteration 26:\tcost = 0.205\n",
      "iteration 27:\tcost = 0.201\n",
      "iteration 28:\tcost = 0.196\n",
      "iteration 29:\tcost = 0.192\n",
      "iteration 30:\tcost = 0.188\n",
      "iteration 31:\tcost = 0.185\n",
      "iteration 32:\tcost = 0.181\n",
      "iteration 33:\tcost = 0.178\n",
      "iteration 34:\tcost = 0.175\n",
      "iteration 35:\tcost = 0.172\n",
      "iteration 36:\tcost = 0.170\n",
      "iteration 37:\tcost = 0.167\n",
      "iteration 38:\tcost = 0.165\n",
      "iteration 39:\tcost = 0.162\n",
      "iteration 40:\tcost = 0.160\n",
      "iteration 41:\tcost = 0.158\n",
      "iteration 42:\tcost = 0.156\n",
      "iteration 43:\tcost = 0.154\n",
      "iteration 44:\tcost = 0.152\n",
      "iteration 45:\tcost = 0.150\n",
      "iteration 46:\tcost = 0.148\n",
      "iteration 47:\tcost = 0.146\n",
      "iteration 48:\tcost = 0.145\n",
      "iteration 49:\tcost = 0.143\n",
      "iteration 50:\tcost = 0.142\n",
      "iteration 51:\tcost = 0.140\n",
      "iteration 52:\tcost = 0.139\n",
      "iteration 53:\tcost = 0.137\n",
      "iteration 54:\tcost = 0.136\n",
      "iteration 55:\tcost = 0.135\n",
      "iteration 56:\tcost = 0.133\n",
      "iteration 57:\tcost = 0.132\n",
      "iteration 58:\tcost = 0.131\n",
      "iteration 59:\tcost = 0.130\n",
      "iteration 60:\tcost = 0.129\n",
      "iteration 61:\tcost = 0.128\n",
      "iteration 62:\tcost = 0.127\n",
      "iteration 63:\tcost = 0.125\n",
      "iteration 64:\tcost = 0.124\n",
      "iteration 65:\tcost = 0.123\n",
      "iteration 66:\tcost = 0.122\n",
      "iteration 67:\tcost = 0.122\n",
      "iteration 68:\tcost = 0.121\n",
      "iteration 69:\tcost = 0.120\n",
      "iteration 70:\tcost = 0.119\n",
      "iteration 71:\tcost = 0.118\n",
      "iteration 72:\tcost = 0.117\n",
      "iteration 73:\tcost = 0.116\n",
      "iteration 74:\tcost = 0.115\n",
      "iteration 75:\tcost = 0.115\n",
      "iteration 76:\tcost = 0.114\n",
      "iteration 77:\tcost = 0.113\n",
      "iteration 78:\tcost = 0.112\n",
      "iteration 79:\tcost = 0.112\n",
      "iteration 80:\tcost = 0.111\n",
      "iteration 81:\tcost = 0.110\n",
      "iteration 82:\tcost = 0.110\n",
      "iteration 83:\tcost = 0.109\n",
      "iteration 84:\tcost = 0.108\n",
      "iteration 85:\tcost = 0.108\n",
      "iteration 86:\tcost = 0.107\n",
      "iteration 87:\tcost = 0.106\n",
      "iteration 88:\tcost = 0.106\n",
      "iteration 89:\tcost = 0.105\n",
      "iteration 90:\tcost = 0.105\n",
      "iteration 91:\tcost = 0.104\n",
      "iteration 92:\tcost = 0.104\n",
      "iteration 93:\tcost = 0.103\n",
      "iteration 94:\tcost = 0.102\n",
      "iteration 95:\tcost = 0.102\n",
      "iteration 96:\tcost = 0.101\n",
      "iteration 97:\tcost = 0.101\n",
      "iteration 98:\tcost = 0.100\n",
      "iteration 99:\tcost = 0.100\n",
      "iteration 100:\tcost = 0.099\n"
     ]
    }
   ],
   "source": [
    "%aimport adaline\n",
    "from adaline import max_iters\n",
    "\n",
    "x = add_bias(x)\n",
    "y = convert_labels(y)\n",
    "\n",
    "weights, cost, error = adaline.train_adaline(features=x, labels=y,\n",
    "                                             rate=0.061,\n",
    "                                             termination_condition=max_iters(100),\n",
    "                                             verbose=True)"
   ]
  },
  {
   "cell_type": "code",
   "execution_count": 69,
   "metadata": {
    "collapsed": false
   },
   "outputs": [
    {
     "data": {
      "image/png": "[encoded data removed]",
      "text/plain": [
       "<matplotlib.figure.Figure at 0x7f928f0a6e48>"
      ]
     },
     "metadata": {},
     "output_type": "display_data"
    },
    {
     "data": {
      "image/png": "[encoded data removed]",
      "text/plain": [
       "<matplotlib.figure.Figure at 0x7f928f046eb8>"
      ]
     },
     "metadata": {},
     "output_type": "display_data"
    }
   ],
   "source": [
    "plt.plot(cost)\n",
    "plt.ylim(0, cost[0])\n",
    "plt.show()\n",
    "plt.plot(error)\n",
    "plt.ylim(0, error[0])\n",
    "plt.show()"
   ]
  },
  {
   "cell_type": "markdown",
   "metadata": {},
   "source": [
    "## test phase"
   ]
  },
  {
   "cell_type": "code",
   "execution_count": 70,
   "metadata": {
    "collapsed": true
   },
   "outputs": [],
   "source": [
    "%aimport adaline\n",
    "\n",
    "x_test = X[N_keep:N_keep+1000]\n",
    "y_test = Y[N_keep:N_keep+1000]\n",
    "\n",
    "x_test = add_bias(x_test)\n",
    "y_test = convert_labels(y_test)\n",
    "\n",
    "labels, cost = adaline.test_adaline(weights=weights, features=x_test)"
   ]
  },
  {
   "cell_type": "code",
   "execution_count": 71,
   "metadata": {
    "collapsed": false
   },
   "outputs": [
    {
     "data": {
      "text/plain": [
       "0.308"
      ]
     },
     "execution_count": 71,
     "metadata": {},
     "output_type": "execute_result"
    }
   ],
   "source": [
    "## error\n",
    "np.sum(y_test != labels)/x_test.shape[0] # mean error over samples"
   ]
  }
 ],
 "metadata": {
  "kernelspec": {
   "display_name": "Python 3",
   "language": "python",
   "name": "python3"
  },
  "language_info": {
   "codemirror_mode": {
    "name": "ipython",
    "version": 3
   },
   "file_extension": ".py",
   "mimetype": "text/x-python",
   "name": "python",
   "nbconvert_exporter": "python",
   "pygments_lexer": "ipython3",
   "version": "3.5.2"
  }
 },
 "nbformat": 4,
 "nbformat_minor": 0
}
