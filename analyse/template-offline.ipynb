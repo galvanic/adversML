{
 "cells": [
  {
   "cell_type": "code",
   "execution_count": null,
   "metadata": {
    "collapsed": false
   },
   "outputs": [],
   "source": [
    "import numpy as np\n",
    "import pandas as pd\n",
    "import matplotlib.pyplot as plt\n",
    "%matplotlib inline\n",
    "\n",
    "from IPython.core.display import display, HTML\n",
    "display(HTML(\"<style>div.container { width:100% !important; }</style>\"))\n",
    "display(HTML(\"<style>div.cell { width:65% !important; margin: auto; }</style>\"))\n",
    "display(HTML(\"<style>div.output_png { background-color: white; position: relative; width: 400% !important; left: -35%; overflow-x: visible !important; }</style>\"))\n",
    "display(HTML(\"<style>div.output_png img { max-width: 1900px !important; margin: auto !important; }</style>\"))\n",
    "\n",
    "%load_ext autoreload\n",
    "%autoreload 1\n",
    "\n",
    "import sys\n",
    "import os.path\n",
    "absolute_path_code_dir = os.path.join('/', 'home', 'justine', 'Dropbox', 'imperial', 'computing', 'thesis', 'code')\n",
    "sys.path.insert(0, absolute_path_code_dir)\n",
    "\n",
    "from helpers.i_o import join_repetitions\n",
    "from analyse.visualise_offline import visualise"
   ]
  },
  {
   "cell_type": "markdown",
   "metadata": {},
   "source": [
    "# Offline batch training in adversarial setting with varying X"
   ]
  },
  {
   "cell_type": "code",
   "execution_count": null,
   "metadata": {
    "collapsed": false
   },
   "outputs": [],
   "source": [
    "BATCH_IDs = ['']\n",
    "DATASET_DIR = os.path.join('.')\n",
    "\n",
    "DF = join_repetitions(os.path.join(DATASET_DIR, '%s-df.dat' % batch_id) for batch_id in BATCH_IDs)\n",
    "DF = DF.mean(level=DF.index.names[:-1])\n",
    "display(DF)\n"
   ]
  },
  {
   "cell_type": "code",
   "execution_count": null,
   "metadata": {
    "collapsed": false,
    "scrolled": true
   },
   "outputs": [],
   "source": [
    "visualise(DF, dimension_rows='attack', dimension_color=None, xaxis_label='% attacker knowledge')\n",
    "visualise(DF, dimension_rows=None, dimension_color='attack', xaxis_label='% attacker knowledge')"
   ]
  }
 ],
 "metadata": {
  "kernelspec": {
   "display_name": "Python 3",
   "language": "python",
   "name": "python3"
  },
  "language_info": {
   "codemirror_mode": {
    "name": "ipython",
    "version": 3
   },
   "file_extension": ".py",
   "mimetype": "text/x-python",
   "name": "python",
   "nbconvert_exporter": "python",
   "pygments_lexer": "ipython3",
   "version": "3.5.2"
  }
 },
 "nbformat": 4,
 "nbformat_minor": 0
}
