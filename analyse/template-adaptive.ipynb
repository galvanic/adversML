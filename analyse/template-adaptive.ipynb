{
 "cells": [
  {
   "cell_type": "code",
   "execution_count": null,
   "metadata": {
    "collapsed": false
   },
   "outputs": [],
   "source": [
    "import numpy as np\n",
    "import pandas as pd\n",
    "from functools import partial\n",
    "from pprint import pprint\n",
    "import matplotlib.pyplot as plt\n",
    "%matplotlib inline\n",
    "\n",
    "from IPython.core.display import display, HTML\n",
    "display(HTML(\"<style>div.container { width:100% !important; }</style>\"))\n",
    "display(HTML(\"<style>div.cell { width:65% !important; margin: auto; }</style>\"))\n",
    "display(HTML(\"<style>div.output_png { background-color: white; position: relative; width: 400% !important; left: -35%; overflow-x: visible !important; }</style>\"))\n",
    "display(HTML(\"<style>div.output_png img { max-width: 1900px !important; margin: auto !important; }</style>\"))\n",
    "\n",
    "%load_ext autoreload\n",
    "%autoreload 1\n",
    "\n",
    "import sys\n",
    "import os.path\n",
    "absolute_path_code_dir = os.path.join('/', 'home', 'justine', 'Dropbox', 'imperial', 'computing', 'thesis', 'code')\n",
    "sys.path.insert(0, absolute_path_code_dir)\n",
    "\n",
    "from helpers.i_o import join_repetitions\n",
    "import analyse.visualise_adaptive as vis\n",
    "from analyse.regret import transform_for_plot as add_regret"
   ]
  },
  {
   "cell_type": "markdown",
   "metadata": {},
   "source": [
    "# Convex combination of two adaptive filters\n",
    "\n",
    "### load and prepare data"
   ]
  },
  {
   "cell_type": "code",
   "execution_count": null,
   "metadata": {
    "collapsed": false
   },
   "outputs": [],
   "source": [
    "BATCH_IDs = ['', '']\n",
    "DATASET_DIR = os.path.join('.')\n",
    "\n",
    "DF = join_repetitions(os.path.join(DATASET_DIR, '%s-df.dat' % batch_id) for batch_id in BATCH_IDs)\n",
    "\n",
    "total_timesteps = DF.columns.get_level_values('timestep')[-1]\n",
    "specs           = vis.get_batch_specs(BATCH_IDs[0], DATASET_DIR)  ## assumes specs are the same\n",
    "attacks         = vis.get_attacks_info_from_specs(specs, N=total_timesteps)\n",
    "\n",
    "pprint(attacks)\n",
    "print('\\ntotal timesteps: %d' % total_timesteps)\n",
    "\n",
    "DF = DF.mean(level=DF.index.names[:-1])\n",
    "DF['join_id'] = ['join %d' % num for num in range(len(DF))]\n",
    "DF = DF.set_index('join_id', append=True)\n",
    "DF.index = DF.index.rename('experiment_id', level=-1)\n",
    "\n",
    "BATCH_ID = 'join'\n",
    "experiment_ids = vis.get_sorted_experiment_ids(DF)\n",
    "\n",
    "display(DF)"
   ]
  },
  {
   "cell_type": "code",
   "execution_count": null,
   "metadata": {
    "collapsed": true
   },
   "outputs": [],
   "source": [
    "df = (DF.xs('adaline', axis=0, level='classifier fast')\n",
    "        .xs(0.005, axis=0, level='η fast')\n",
    "        .xs(0.0005, axis=0, level='η slow')\n",
    "        .xs('dictionary', axis=0, level='attack')\n",
    "        .xs(0.5, axis=0, level='adaptation rate'))\n",
    "experiment_ids = vis.get_sorted_experiment_ids(df)\n",
    "\n",
    "for experiment_ids_group in vis.chunks(experiment_ids, groups_of=2):\n",
    "    vis.compare_group(DF, experiment_ids_group, plot_specs='test set', attacks_info=attacks)\n",
    "    vis.compare_group(DF, experiment_ids_group, plot_specs='regret',   attacks_info=attacks, transform=partial(add_regret, T=500))\n",
    "\n",
    "\n",
    "custom_params = {'xlim': (19000, 20500), 'ylim': (0, 200), 'figsize': (27, 14)}\n",
    "\n",
    "for experiment_ids_group in vis.chunks(experiment_ids, groups_of=2):\n",
    "    vis.compare_group(DF, experiment_ids_group, plot_specs='regret', attacks_info=attacks, transform=partial(add_regret, T=1000),\n",
    "                  **custom_params)"
   ]
  },
  {
   "cell_type": "markdown",
   "metadata": {},
   "source": [
    "## Observations and early interpretation\n",
    "\n",
    "- observation"
   ]
  }
 ],
 "metadata": {
  "kernelspec": {
   "display_name": "Python 3",
   "language": "python",
   "name": "python3"
  },
  "language_info": {
   "codemirror_mode": {
    "name": "ipython",
    "version": 3
   },
   "file_extension": ".py",
   "mimetype": "text/x-python",
   "name": "python",
   "nbconvert_exporter": "python",
   "pygments_lexer": "ipython3",
   "version": "3.5.2"
  }
 },
 "nbformat": 4,
 "nbformat_minor": 0
}
