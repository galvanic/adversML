{
 "cells": [
  {
   "cell_type": "code",
   "execution_count": null,
   "metadata": {
    "collapsed": false
   },
   "outputs": [],
   "source": [
    "import pandas as pd\n",
    "from pprint import pprint\n",
    "import matplotlib.pyplot as plt\n",
    "%matplotlib inline\n",
    "\n",
    "from IPython.core.display import display, HTML\n",
    "display(HTML(\"<style>div.container { width:100% !important; }</style>\"))\n",
    "display(HTML(\"<style>div.cell { width:65% !important; margin: auto; }</style>\"))\n",
    "display(HTML(\"<style>div.output_png { background-color: white; position: relative; width: 400% !important; left: -35%; overflow-x: visible !important; }</style>\"))\n",
    "display(HTML(\"<style>div.output_png img { max-width: 1900px !important; margin: auto !important; }</style>\"))\n",
    "\n",
    "%load_ext autoreload\n",
    "%autoreload 1"
   ]
  },
  {
   "cell_type": "markdown",
   "metadata": {},
   "source": [
    "# Convex combination of two adaptive filters\n",
    "\n",
    "### load and prepare data"
   ]
  },
  {
   "cell_type": "code",
   "execution_count": null,
   "metadata": {
    "collapsed": false
   },
   "outputs": [],
   "source": [
    "import analyse.visualise_adaptive as vis\n",
    "\n",
    "BATCH_ID = ''\n",
    "\n",
    "import os.path\n",
    "DATASET_DIR = os.path.join('.')\n",
    "\n",
    "\n",
    "specs          = vis.get_batch_specs(BATCH_ID, DATASET_DIR)\n",
    "attacks        = vis.get_attacks_info_from_specs(specs)\n",
    "DF             = vis.get_batch_df(BATCH_ID, DATASET_DIR)\n",
    "experiment_ids = vis.get_sorted_experiment_ids(DF)\n",
    "\n",
    "total_timesteps = DF.columns.get_level_values('timestep')[-1]\n",
    "\n",
    "pprint(attacks)\n",
    "print('\\ntotal timesteps: %d' % total_timesteps)\n",
    "\n",
    "DF"
   ]
  },
  {
   "cell_type": "code",
   "execution_count": null,
   "metadata": {
    "collapsed": false
   },
   "outputs": [],
   "source": [
    "\n",
    "for experiment_ids_group in vis.chunks(experiment_ids, groups_of=2):\n",
    "    custom_params = {}\n",
    "    vis.compare_group(DF, experiment_ids_group, attacks, **custom_params)"
   ]
  },
  {
   "cell_type": "code",
   "execution_count": null,
   "metadata": {
    "collapsed": false
   },
   "outputs": [],
   "source": [
    "experiment_id = '%s %d' % (BATCH_ID, 0)\n",
    "df = vis.get_xs(experiment_id, DF)\n",
    "df = vis.prepare(df)\n",
    "df"
   ]
  },
  {
   "cell_type": "code",
   "execution_count": null,
   "metadata": {
    "collapsed": false
   },
   "outputs": [],
   "source": [
    "custom_params = {'xlim': (15000, 25100), 'figsize': (27, 14)}\n",
    "compare_group([experiment_id], **custom_params)"
   ]
  },
  {
   "cell_type": "markdown",
   "metadata": {},
   "source": [
    "## Observations and early interpretation\n",
    "\n",
    "- observation"
   ]
  }
 ],
 "metadata": {
  "kernelspec": {
   "display_name": "Python 3",
   "language": "python",
   "name": "python3"
  },
  "language_info": {
   "codemirror_mode": {
    "name": "ipython",
    "version": 3
   },
   "file_extension": ".py",
   "mimetype": "text/x-python",
   "name": "python",
   "nbconvert_exporter": "python",
   "pygments_lexer": "ipython3",
   "version": "3.5.2"
  }
 },
 "nbformat": 4,
 "nbformat_minor": 0
}
